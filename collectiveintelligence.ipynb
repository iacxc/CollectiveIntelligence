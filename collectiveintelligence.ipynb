{
 "cells": [
  {
   "cell_type": "code",
   "execution_count": 1,
   "metadata": {},
   "outputs": [],
   "source": [
    "from imp import reload\n",
    "from random import random\n",
    "import optimization\n",
    "import dorm\n",
    "import socialnetwork\n",
    "import docclass\n",
    "\n",
    "%matplotlib inline"
   ]
  },
  {
   "cell_type": "code",
   "execution_count": null,
   "metadata": {},
   "outputs": [],
   "source": [
    "reload(dorm)\n",
    "s = optimization.randomoptimize(dorm.domain, dorm.dormcost)\n",
    "print(dorm.dormcost(s))\n",
    "dorm.printsolution(s)"
   ]
  },
  {
   "cell_type": "code",
   "execution_count": null,
   "metadata": {},
   "outputs": [],
   "source": [
    "reload(dorm)\n",
    "s = optimization.geneticoptimize(dorm.domain, dorm.dormcost, maxiter=20)\n",
    "print(dorm.dormcost(s))\n",
    "dorm.printsolution(s)"
   ]
  },
  {
   "cell_type": "code",
   "execution_count": null,
   "metadata": {},
   "outputs": [],
   "source": [
    "reload(socialnetwork)\n",
    "s = optimization.geneticoptimize(socialnetwork.domain, socialnetwork.crosscount, maxiter=10)\n",
    "print(socialnetwork.crosscount(s))\n",
    "socialnetwork.drawnetwork(s)"
   ]
  },
  {
   "cell_type": "code",
   "execution_count": null,
   "metadata": {},
   "outputs": [],
   "source": [
    "reload(docclass)\n",
    "cl = docclass.Classifier()\n",
    "docclass.sampletrain(cl)\n",
    "print(cl.weightedprob('money', 'good', cl.fprob))\n",
    "docclass.sampletrain(cl)\n",
    "print(cl.weightedprob('money', 'good', cl.fprob))"
   ]
  },
  {
   "cell_type": "code",
   "execution_count": null,
   "metadata": {},
   "outputs": [],
   "source": [
    "reload(docclass)\n",
    "cl = docclass.Naivebayes(docclass.getwords)\n",
    "docclass.sampletrain(cl)\n",
    "print(cl.prob('quick rabbit', 'good'), cl.prob('quick rabbit', 'bad'))\n",
    "print(cl.classify('quick rabbit', default='unknown'), cl.classify('quick money', default='unknown'))\n",
    "cl.setthreshold('bad', 3.0)\n",
    "print(cl.classify('quick money', default='unknown'))\n",
    "for _ in range(10):\n",
    "    docclass.sampletrain(cl)\n",
    "print(cl.classify('quick money', default='unknown'))    "
   ]
  },
  {
   "cell_type": "code",
   "execution_count": 19,
   "metadata": {},
   "outputs": [
    {
     "data": {
      "text/plain": [
       "'good'"
      ]
     },
     "execution_count": 19,
     "metadata": {},
     "output_type": "execute_result"
    }
   ],
   "source": [
    "reload(docclass)\n",
    "cl = docclass.FisherClassifier(docclass.getwords)\n",
    "docclass.sampletrain(cl)\n",
    "cl.setminimum('bad', 0.8)\n",
    "cl.setminimum('good', 0.4)\n",
    "cl.classify('quick money')"
   ]
  },
  {
   "cell_type": "code",
   "execution_count": null,
   "metadata": {},
   "outputs": [],
   "source": []
  }
 ],
 "metadata": {
  "kernelspec": {
   "display_name": "Python 3",
   "language": "python",
   "name": "python3"
  },
  "language_info": {
   "codemirror_mode": {
    "name": "ipython",
    "version": 3
   },
   "file_extension": ".py",
   "mimetype": "text/x-python",
   "name": "python",
   "nbconvert_exporter": "python",
   "pygments_lexer": "ipython3",
   "version": "3.6.4"
  }
 },
 "nbformat": 4,
 "nbformat_minor": 2
}
